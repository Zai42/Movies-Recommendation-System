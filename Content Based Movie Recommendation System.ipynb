{
  "nbformat": 4,
  "nbformat_minor": 0,
  "metadata": {
    "colab": {
      "provenance": []
    },
    "kernelspec": {
      "name": "python3",
      "display_name": "Python 3"
    },
    "language_info": {
      "name": "python"
    }
  },
  "cells": [
    {
      "cell_type": "markdown",
      "source": [
        "# Importing Important Libraries"
      ],
      "metadata": {
        "id": "EIBuFIdzLz2f"
      }
    },
    {
      "cell_type": "code",
      "execution_count": 3,
      "metadata": {
        "colab": {
          "base_uri": "https://localhost:8080/"
        },
        "id": "GCLhsnWZI_42",
        "outputId": "8aaf9038-0425-4560-9838-006fd231a4d1"
      },
      "outputs": [
        {
          "output_type": "stream",
          "name": "stderr",
          "text": [
            "[nltk_data] Downloading package stopwords to /root/nltk_data...\n",
            "[nltk_data]   Package stopwords is already up-to-date!\n",
            "[nltk_data] Downloading package punkt to /root/nltk_data...\n",
            "[nltk_data]   Package punkt is already up-to-date!\n",
            "[nltk_data] Downloading package wordnet to /root/nltk_data...\n",
            "[nltk_data]   Package wordnet is already up-to-date!\n"
          ]
        }
      ],
      "source": [
        "import pandas as pd\n",
        "import numpy as np\n",
        "import nltk\n",
        "nltk.download('stopwords')\n",
        "from nltk import word_tokenize\n",
        "from nltk.corpus import stopwords\n",
        "nltk.download('punkt')\n",
        "from nltk.tokenize import word_tokenize\n",
        "import gensim\n",
        "import re\n",
        "from sklearn.feature_extraction.text import TfidfVectorizer\n",
        "from sklearn.feature_extraction.text import CountVectorizer\n",
        "from gensim.models import Word2Vec\n",
        "from sklearn.metrics.pairwise import linear_kernel\n",
        "from sklearn.metrics.pairwise import cosine_similarity, cosine_distances\n",
        "from nltk.stem import WordNetLemmatizer\n",
        "nltk.download('wordnet')\n",
        "import ast"
      ]
    },
    {
      "cell_type": "markdown",
      "source": [
        "# Importing Dataset"
      ],
      "metadata": {
        "id": "fGIE33VlL4GK"
      }
    },
    {
      "cell_type": "code",
      "source": [
        "movies_keyword_with_description_keyword = pd.read_csv(\"movies_keyword_with_description_keyword.csv\")\n",
        "movies_keyword_with_description_keyword = movies_keyword_with_description_keyword.drop(columns = ['Unnamed: 0.1'])"
      ],
      "metadata": {
        "id": "O9Qds0p-L2V5"
      },
      "execution_count": 4,
      "outputs": []
    },
    {
      "cell_type": "markdown",
      "source": [
        "#Converting All keywords to Lowercases"
      ],
      "metadata": {
        "id": "Q7N_GkyFOEqK"
      }
    },
    {
      "cell_type": "code",
      "source": [
        "num_rows = 75\n",
        "num_columns = 498\n",
        "for row_index in range(0,num_rows):\n",
        "    for col_index in range(0,num_columns):\n",
        "       value = movies_keyword_with_description_keyword.iloc[row_index, col_index]\n",
        "       if isinstance(value, str):\n",
        "          movies_keyword_with_description_keyword.iloc[row_index, col_index] = value.lower()"
      ],
      "metadata": {
        "id": "0YeX0HrTOCnH"
      },
      "execution_count": 5,
      "outputs": []
    },
    {
      "cell_type": "markdown",
      "source": [
        "#Combining all keywords of each movie in single string(To Drop NA)"
      ],
      "metadata": {
        "id": "zEfMCCrUOJ1B"
      }
    },
    {
      "cell_type": "markdown",
      "source": [
        "Creating a new dataframe which contain two columns:\n",
        "\n",
        "\n",
        "*   Movie Name\n",
        "*   All Keywords(Combined in single string)\n",
        "\n",
        "This has been done in above Table (new_dataset) but in new_dataset we couldnot drop NA to drop NA we are creating new column in which all keywords are combined.\n"
      ],
      "metadata": {
        "id": "PafDZcldOQQJ"
      }
    },
    {
      "cell_type": "code",
      "source": [
        "  #Creating dictonary to store movies name as keys and keywords as values\n",
        "movies_combined_keywords = {}\n",
        "for i in movies_keyword_with_description_keyword.columns:\n",
        "   combined_keywords = []\n",
        "   for j in movies_keyword_with_description_keyword[i]:\n",
        "     combined_keywords.append(j)\n",
        "     movies_combined_keywords.update({i:combined_keywords}) #updaing values in dictonary"
      ],
      "metadata": {
        "id": "PcDzo74nOG4m"
      },
      "execution_count": 6,
      "outputs": []
    },
    {
      "cell_type": "markdown",
      "source": [
        "Creating dataframe with dictonary"
      ],
      "metadata": {
        "id": "ZTMiE1jXOp_w"
      }
    },
    {
      "cell_type": "code",
      "source": [
        "df_with_combined_keywords = pd.DataFrame(list(movies_combined_keywords.items()), columns=['Movie Titles', 'Movies Keywords'])\n",
        "#df_with_combined_keywords.to_csv(\"df_with_combined_keywords.csv\")"
      ],
      "metadata": {
        "id": "DpRSHVlGOqSe"
      },
      "execution_count": 7,
      "outputs": []
    },
    {
      "cell_type": "markdown",
      "source": [
        "Combining all the keywords of each movie in single string (Excluding nulls)"
      ],
      "metadata": {
        "id": "e-XqN4bbOxjD"
      }
    },
    {
      "cell_type": "code",
      "source": [
        "df_with_combined_keywords['Movies Combined Keywords'] = df_with_combined_keywords['Movies Keywords'].apply(lambda x: ''.join(str([word for word in x if pd.notna(word)])))\n",
        "#df_with_combined_keywords.to_csv(\"movies_combined_keywords_without_null.csv\")"
      ],
      "metadata": {
        "id": "JZoQW0grOrnP"
      },
      "execution_count": 8,
      "outputs": []
    },
    {
      "cell_type": "markdown",
      "source": [
        "#Combining all keywords without null\n",
        "Creating a column same as Movies Keywords but without null"
      ],
      "metadata": {
        "id": "ztY4jkDnO1rg"
      }
    },
    {
      "cell_type": "code",
      "source": [
        "df_with_combined_keywords['Movies New Keywords'] = df_with_combined_keywords['Movies Combined Keywords'].apply(ast.literal_eval)\n",
        "df_with_combined_keywords\n",
        "#df_with_combined_keywords.to_csv(\"movies_keyword_with_description_keyword_updated.csv\")"
      ],
      "metadata": {
        "id": "RzjMpo1lOzC9",
        "colab": {
          "base_uri": "https://localhost:8080/",
          "height": 597
        },
        "outputId": "25560918-e396-4ab9-de1f-f9e2daf72e19"
      },
      "execution_count": 9,
      "outputs": [
        {
          "output_type": "execute_result",
          "data": {
            "text/plain": [
              "                              Movie Titles  \\\n",
              "0                 The Shawshank Redemption   \n",
              "1                            The Godfather   \n",
              "2                          The Dark Knight   \n",
              "3                    The Godfather Part II   \n",
              "4                         De 12 gezworenen   \n",
              "..                                     ...   \n",
              "493                      F9: The Fast Saga   \n",
              "494  Harry Potter and the Sorcerer's Stone   \n",
              "495              The Marvelous Mrs. Maisel   \n",
              "496         Demon Slayer: Kimetsu no Yaiba   \n",
              "497                           Fake Profile   \n",
              "\n",
              "                                       Movies Keywords  \\\n",
              "0    [course, several, years, two, convicts, form, ...   \n",
              "1    [vito, corleone, head, mafia, family, decides,...   \n",
              "2    [menace, known, joker, wreaks, havoc, chaos, p...   \n",
              "3    [early, life, career, vito, corleone, 1920s, n...   \n",
              "4    [jury, new, york, city, murder, trial, frustra...   \n",
              "..                                                 ...   \n",
              "493  [nan, nan, nan, nan, nan, nan, nan, nan, nan, ...   \n",
              "494  [nan, nan, nan, nan, nan, nan, nan, nan, nan, ...   \n",
              "495  [nan, nan, nan, nan, nan, nan, nan, nan, nan, ...   \n",
              "496  [nan, nan, nan, nan, nan, nan, nan, nan, nan, ...   \n",
              "497  [nan, nan, nan, nan, nan, nan, nan, nan, nan, ...   \n",
              "\n",
              "                              Movies Combined Keywords  \\\n",
              "0    ['course', 'several', 'years', 'two', 'convict...   \n",
              "1    ['vito', 'corleone', 'head', 'mafia', 'family'...   \n",
              "2    ['menace', 'known', 'joker', 'wreaks', 'havoc'...   \n",
              "3    ['early', 'life', 'career', 'vito', 'corleone'...   \n",
              "4    ['jury', 'new', 'york', 'city', 'murder', 'tri...   \n",
              "..                                                 ...   \n",
              "493  ['fast and furious franchise', 'car', 'gunfigh...   \n",
              "494  ['magic', 'wizard', 'orphan', 'school of magic...   \n",
              "495  ['female protagonist', 'new york city', 'jewis...   \n",
              "496  ['demon slayer', 'anime', 'brother sister rela...   \n",
              "497  ['telenovela', 'steamy romance', 'soap opera d...   \n",
              "\n",
              "                                   Movies New Keywords  \n",
              "0    [course, several, years, two, convicts, form, ...  \n",
              "1    [vito, corleone, head, mafia, family, decides,...  \n",
              "2    [menace, known, joker, wreaks, havoc, chaos, p...  \n",
              "3    [early, life, career, vito, corleone, 1920s, n...  \n",
              "4    [jury, new, york, city, murder, trial, frustra...  \n",
              "..                                                 ...  \n",
              "493  [fast and furious franchise, car, gunfight, sh...  \n",
              "494  [magic, wizard, orphan, school of magic, based...  \n",
              "495  [female protagonist, new york city, jewish fam...  \n",
              "496  [demon slayer, anime, brother sister relations...  \n",
              "497  [telenovela, steamy romance, soap opera drama,...  \n",
              "\n",
              "[498 rows x 4 columns]"
            ],
            "text/html": [
              "\n",
              "  <div id=\"df-d51d7575-eae7-4dea-8de8-e6f08ae218e6\" class=\"colab-df-container\">\n",
              "    <div>\n",
              "<style scoped>\n",
              "    .dataframe tbody tr th:only-of-type {\n",
              "        vertical-align: middle;\n",
              "    }\n",
              "\n",
              "    .dataframe tbody tr th {\n",
              "        vertical-align: top;\n",
              "    }\n",
              "\n",
              "    .dataframe thead th {\n",
              "        text-align: right;\n",
              "    }\n",
              "</style>\n",
              "<table border=\"1\" class=\"dataframe\">\n",
              "  <thead>\n",
              "    <tr style=\"text-align: right;\">\n",
              "      <th></th>\n",
              "      <th>Movie Titles</th>\n",
              "      <th>Movies Keywords</th>\n",
              "      <th>Movies Combined Keywords</th>\n",
              "      <th>Movies New Keywords</th>\n",
              "    </tr>\n",
              "  </thead>\n",
              "  <tbody>\n",
              "    <tr>\n",
              "      <th>0</th>\n",
              "      <td>The Shawshank Redemption</td>\n",
              "      <td>[course, several, years, two, convicts, form, ...</td>\n",
              "      <td>['course', 'several', 'years', 'two', 'convict...</td>\n",
              "      <td>[course, several, years, two, convicts, form, ...</td>\n",
              "    </tr>\n",
              "    <tr>\n",
              "      <th>1</th>\n",
              "      <td>The Godfather</td>\n",
              "      <td>[vito, corleone, head, mafia, family, decides,...</td>\n",
              "      <td>['vito', 'corleone', 'head', 'mafia', 'family'...</td>\n",
              "      <td>[vito, corleone, head, mafia, family, decides,...</td>\n",
              "    </tr>\n",
              "    <tr>\n",
              "      <th>2</th>\n",
              "      <td>The Dark Knight</td>\n",
              "      <td>[menace, known, joker, wreaks, havoc, chaos, p...</td>\n",
              "      <td>['menace', 'known', 'joker', 'wreaks', 'havoc'...</td>\n",
              "      <td>[menace, known, joker, wreaks, havoc, chaos, p...</td>\n",
              "    </tr>\n",
              "    <tr>\n",
              "      <th>3</th>\n",
              "      <td>The Godfather Part II</td>\n",
              "      <td>[early, life, career, vito, corleone, 1920s, n...</td>\n",
              "      <td>['early', 'life', 'career', 'vito', 'corleone'...</td>\n",
              "      <td>[early, life, career, vito, corleone, 1920s, n...</td>\n",
              "    </tr>\n",
              "    <tr>\n",
              "      <th>4</th>\n",
              "      <td>De 12 gezworenen</td>\n",
              "      <td>[jury, new, york, city, murder, trial, frustra...</td>\n",
              "      <td>['jury', 'new', 'york', 'city', 'murder', 'tri...</td>\n",
              "      <td>[jury, new, york, city, murder, trial, frustra...</td>\n",
              "    </tr>\n",
              "    <tr>\n",
              "      <th>...</th>\n",
              "      <td>...</td>\n",
              "      <td>...</td>\n",
              "      <td>...</td>\n",
              "      <td>...</td>\n",
              "    </tr>\n",
              "    <tr>\n",
              "      <th>493</th>\n",
              "      <td>F9: The Fast Saga</td>\n",
              "      <td>[nan, nan, nan, nan, nan, nan, nan, nan, nan, ...</td>\n",
              "      <td>['fast and furious franchise', 'car', 'gunfigh...</td>\n",
              "      <td>[fast and furious franchise, car, gunfight, sh...</td>\n",
              "    </tr>\n",
              "    <tr>\n",
              "      <th>494</th>\n",
              "      <td>Harry Potter and the Sorcerer's Stone</td>\n",
              "      <td>[nan, nan, nan, nan, nan, nan, nan, nan, nan, ...</td>\n",
              "      <td>['magic', 'wizard', 'orphan', 'school of magic...</td>\n",
              "      <td>[magic, wizard, orphan, school of magic, based...</td>\n",
              "    </tr>\n",
              "    <tr>\n",
              "      <th>495</th>\n",
              "      <td>The Marvelous Mrs. Maisel</td>\n",
              "      <td>[nan, nan, nan, nan, nan, nan, nan, nan, nan, ...</td>\n",
              "      <td>['female protagonist', 'new york city', 'jewis...</td>\n",
              "      <td>[female protagonist, new york city, jewish fam...</td>\n",
              "    </tr>\n",
              "    <tr>\n",
              "      <th>496</th>\n",
              "      <td>Demon Slayer: Kimetsu no Yaiba</td>\n",
              "      <td>[nan, nan, nan, nan, nan, nan, nan, nan, nan, ...</td>\n",
              "      <td>['demon slayer', 'anime', 'brother sister rela...</td>\n",
              "      <td>[demon slayer, anime, brother sister relations...</td>\n",
              "    </tr>\n",
              "    <tr>\n",
              "      <th>497</th>\n",
              "      <td>Fake Profile</td>\n",
              "      <td>[nan, nan, nan, nan, nan, nan, nan, nan, nan, ...</td>\n",
              "      <td>['telenovela', 'steamy romance', 'soap opera d...</td>\n",
              "      <td>[telenovela, steamy romance, soap opera drama,...</td>\n",
              "    </tr>\n",
              "  </tbody>\n",
              "</table>\n",
              "<p>498 rows × 4 columns</p>\n",
              "</div>\n",
              "    <div class=\"colab-df-buttons\">\n",
              "\n",
              "  <div class=\"colab-df-container\">\n",
              "    <button class=\"colab-df-convert\" onclick=\"convertToInteractive('df-d51d7575-eae7-4dea-8de8-e6f08ae218e6')\"\n",
              "            title=\"Convert this dataframe to an interactive table.\"\n",
              "            style=\"display:none;\">\n",
              "\n",
              "  <svg xmlns=\"http://www.w3.org/2000/svg\" height=\"24px\" viewBox=\"0 -960 960 960\">\n",
              "    <path d=\"M120-120v-720h720v720H120Zm60-500h600v-160H180v160Zm220 220h160v-160H400v160Zm0 220h160v-160H400v160ZM180-400h160v-160H180v160Zm440 0h160v-160H620v160ZM180-180h160v-160H180v160Zm440 0h160v-160H620v160Z\"/>\n",
              "  </svg>\n",
              "    </button>\n",
              "\n",
              "  <style>\n",
              "    .colab-df-container {\n",
              "      display:flex;\n",
              "      gap: 12px;\n",
              "    }\n",
              "\n",
              "    .colab-df-convert {\n",
              "      background-color: #E8F0FE;\n",
              "      border: none;\n",
              "      border-radius: 50%;\n",
              "      cursor: pointer;\n",
              "      display: none;\n",
              "      fill: #1967D2;\n",
              "      height: 32px;\n",
              "      padding: 0 0 0 0;\n",
              "      width: 32px;\n",
              "    }\n",
              "\n",
              "    .colab-df-convert:hover {\n",
              "      background-color: #E2EBFA;\n",
              "      box-shadow: 0px 1px 2px rgba(60, 64, 67, 0.3), 0px 1px 3px 1px rgba(60, 64, 67, 0.15);\n",
              "      fill: #174EA6;\n",
              "    }\n",
              "\n",
              "    .colab-df-buttons div {\n",
              "      margin-bottom: 4px;\n",
              "    }\n",
              "\n",
              "    [theme=dark] .colab-df-convert {\n",
              "      background-color: #3B4455;\n",
              "      fill: #D2E3FC;\n",
              "    }\n",
              "\n",
              "    [theme=dark] .colab-df-convert:hover {\n",
              "      background-color: #434B5C;\n",
              "      box-shadow: 0px 1px 3px 1px rgba(0, 0, 0, 0.15);\n",
              "      filter: drop-shadow(0px 1px 2px rgba(0, 0, 0, 0.3));\n",
              "      fill: #FFFFFF;\n",
              "    }\n",
              "  </style>\n",
              "\n",
              "    <script>\n",
              "      const buttonEl =\n",
              "        document.querySelector('#df-d51d7575-eae7-4dea-8de8-e6f08ae218e6 button.colab-df-convert');\n",
              "      buttonEl.style.display =\n",
              "        google.colab.kernel.accessAllowed ? 'block' : 'none';\n",
              "\n",
              "      async function convertToInteractive(key) {\n",
              "        const element = document.querySelector('#df-d51d7575-eae7-4dea-8de8-e6f08ae218e6');\n",
              "        const dataTable =\n",
              "          await google.colab.kernel.invokeFunction('convertToInteractive',\n",
              "                                                    [key], {});\n",
              "        if (!dataTable) return;\n",
              "\n",
              "        const docLinkHtml = 'Like what you see? Visit the ' +\n",
              "          '<a target=\"_blank\" href=https://colab.research.google.com/notebooks/data_table.ipynb>data table notebook</a>'\n",
              "          + ' to learn more about interactive tables.';\n",
              "        element.innerHTML = '';\n",
              "        dataTable['output_type'] = 'display_data';\n",
              "        await google.colab.output.renderOutput(dataTable, element);\n",
              "        const docLink = document.createElement('div');\n",
              "        docLink.innerHTML = docLinkHtml;\n",
              "        element.appendChild(docLink);\n",
              "      }\n",
              "    </script>\n",
              "  </div>\n",
              "\n",
              "\n",
              "<div id=\"df-40858377-db5b-44f2-b061-2cc45c7bcec1\">\n",
              "  <button class=\"colab-df-quickchart\" onclick=\"quickchart('df-40858377-db5b-44f2-b061-2cc45c7bcec1')\"\n",
              "            title=\"Suggest charts.\"\n",
              "            style=\"display:none;\">\n",
              "\n",
              "<svg xmlns=\"http://www.w3.org/2000/svg\" height=\"24px\"viewBox=\"0 0 24 24\"\n",
              "     width=\"24px\">\n",
              "    <g>\n",
              "        <path d=\"M19 3H5c-1.1 0-2 .9-2 2v14c0 1.1.9 2 2 2h14c1.1 0 2-.9 2-2V5c0-1.1-.9-2-2-2zM9 17H7v-7h2v7zm4 0h-2V7h2v10zm4 0h-2v-4h2v4z\"/>\n",
              "    </g>\n",
              "</svg>\n",
              "  </button>\n",
              "\n",
              "<style>\n",
              "  .colab-df-quickchart {\n",
              "      --bg-color: #E8F0FE;\n",
              "      --fill-color: #1967D2;\n",
              "      --hover-bg-color: #E2EBFA;\n",
              "      --hover-fill-color: #174EA6;\n",
              "      --disabled-fill-color: #AAA;\n",
              "      --disabled-bg-color: #DDD;\n",
              "  }\n",
              "\n",
              "  [theme=dark] .colab-df-quickchart {\n",
              "      --bg-color: #3B4455;\n",
              "      --fill-color: #D2E3FC;\n",
              "      --hover-bg-color: #434B5C;\n",
              "      --hover-fill-color: #FFFFFF;\n",
              "      --disabled-bg-color: #3B4455;\n",
              "      --disabled-fill-color: #666;\n",
              "  }\n",
              "\n",
              "  .colab-df-quickchart {\n",
              "    background-color: var(--bg-color);\n",
              "    border: none;\n",
              "    border-radius: 50%;\n",
              "    cursor: pointer;\n",
              "    display: none;\n",
              "    fill: var(--fill-color);\n",
              "    height: 32px;\n",
              "    padding: 0;\n",
              "    width: 32px;\n",
              "  }\n",
              "\n",
              "  .colab-df-quickchart:hover {\n",
              "    background-color: var(--hover-bg-color);\n",
              "    box-shadow: 0 1px 2px rgba(60, 64, 67, 0.3), 0 1px 3px 1px rgba(60, 64, 67, 0.15);\n",
              "    fill: var(--button-hover-fill-color);\n",
              "  }\n",
              "\n",
              "  .colab-df-quickchart-complete:disabled,\n",
              "  .colab-df-quickchart-complete:disabled:hover {\n",
              "    background-color: var(--disabled-bg-color);\n",
              "    fill: var(--disabled-fill-color);\n",
              "    box-shadow: none;\n",
              "  }\n",
              "\n",
              "  .colab-df-spinner {\n",
              "    border: 2px solid var(--fill-color);\n",
              "    border-color: transparent;\n",
              "    border-bottom-color: var(--fill-color);\n",
              "    animation:\n",
              "      spin 1s steps(1) infinite;\n",
              "  }\n",
              "\n",
              "  @keyframes spin {\n",
              "    0% {\n",
              "      border-color: transparent;\n",
              "      border-bottom-color: var(--fill-color);\n",
              "      border-left-color: var(--fill-color);\n",
              "    }\n",
              "    20% {\n",
              "      border-color: transparent;\n",
              "      border-left-color: var(--fill-color);\n",
              "      border-top-color: var(--fill-color);\n",
              "    }\n",
              "    30% {\n",
              "      border-color: transparent;\n",
              "      border-left-color: var(--fill-color);\n",
              "      border-top-color: var(--fill-color);\n",
              "      border-right-color: var(--fill-color);\n",
              "    }\n",
              "    40% {\n",
              "      border-color: transparent;\n",
              "      border-right-color: var(--fill-color);\n",
              "      border-top-color: var(--fill-color);\n",
              "    }\n",
              "    60% {\n",
              "      border-color: transparent;\n",
              "      border-right-color: var(--fill-color);\n",
              "    }\n",
              "    80% {\n",
              "      border-color: transparent;\n",
              "      border-right-color: var(--fill-color);\n",
              "      border-bottom-color: var(--fill-color);\n",
              "    }\n",
              "    90% {\n",
              "      border-color: transparent;\n",
              "      border-bottom-color: var(--fill-color);\n",
              "    }\n",
              "  }\n",
              "</style>\n",
              "\n",
              "  <script>\n",
              "    async function quickchart(key) {\n",
              "      const quickchartButtonEl =\n",
              "        document.querySelector('#' + key + ' button');\n",
              "      quickchartButtonEl.disabled = true;  // To prevent multiple clicks.\n",
              "      quickchartButtonEl.classList.add('colab-df-spinner');\n",
              "      try {\n",
              "        const charts = await google.colab.kernel.invokeFunction(\n",
              "            'suggestCharts', [key], {});\n",
              "      } catch (error) {\n",
              "        console.error('Error during call to suggestCharts:', error);\n",
              "      }\n",
              "      quickchartButtonEl.classList.remove('colab-df-spinner');\n",
              "      quickchartButtonEl.classList.add('colab-df-quickchart-complete');\n",
              "    }\n",
              "    (() => {\n",
              "      let quickchartButtonEl =\n",
              "        document.querySelector('#df-40858377-db5b-44f2-b061-2cc45c7bcec1 button');\n",
              "      quickchartButtonEl.style.display =\n",
              "        google.colab.kernel.accessAllowed ? 'block' : 'none';\n",
              "    })();\n",
              "  </script>\n",
              "</div>\n",
              "    </div>\n",
              "  </div>\n"
            ]
          },
          "metadata": {},
          "execution_count": 9
        }
      ]
    },
    {
      "cell_type": "markdown",
      "source": [
        "#Applying TF*IDF Vectorizer"
      ],
      "metadata": {
        "id": "Gd6fP83qO_tZ"
      }
    },
    {
      "cell_type": "markdown",
      "source": [
        "Creating TF*IDF model"
      ],
      "metadata": {
        "id": "KEsQPI6pPDKw"
      }
    },
    {
      "cell_type": "code",
      "source": [
        "model = TfidfVectorizer()\n",
        "X = model.fit_transform(df_with_combined_keywords['Movies Combined Keywords'])"
      ],
      "metadata": {
        "id": "JuqqUN2SO7YW"
      },
      "execution_count": 38,
      "outputs": []
    },
    {
      "cell_type": "markdown",
      "source": [
        "#Applying Count Vectorizer (Alternative of TF*IDF)"
      ],
      "metadata": {
        "id": "YGIC8xolIPK8"
      }
    },
    {
      "cell_type": "code",
      "source": [
        "from sklearn.feature_extraction.text import CountVectorizer\n",
        "cv = CountVectorizer(max_features=498,stop_words='english')\n",
        "vector = cv.fit_transform(df_with_combined_keywords['Movies Combined Keywords']).toarray()"
      ],
      "metadata": {
        "id": "tgY0cY5OIOu5"
      },
      "execution_count": 34,
      "outputs": []
    },
    {
      "cell_type": "markdown",
      "source": [
        "#Applying Cosine Similarity"
      ],
      "metadata": {
        "id": "HIUqZgoSPVDo"
      }
    },
    {
      "cell_type": "code",
      "source": [
        "similarity = cosine_similarity(X)"
      ],
      "metadata": {
        "id": "sZCkpIRhPUdF"
      },
      "execution_count": 39,
      "outputs": []
    },
    {
      "cell_type": "markdown",
      "source": [
        "#Lowering all the titles\n",
        "Lowering all the titles of the movies so that searching could be easy"
      ],
      "metadata": {
        "id": "BAj6iIczPYrY"
      }
    },
    {
      "cell_type": "code",
      "source": [
        "for index in range(len(df_with_combined_keywords[\"Movie Titles\"])):\n",
        "  df_with_combined_keywords[\"Movie Titles\"][index] = df_with_combined_keywords[\"Movie Titles\"][index].lower()"
      ],
      "metadata": {
        "id": "c_X12pApPX8e"
      },
      "execution_count": 12,
      "outputs": []
    },
    {
      "cell_type": "markdown",
      "source": [
        "#Recommendation Function\n",
        "Recommendation function that recommend similar movies based on movies title"
      ],
      "metadata": {
        "id": "vmMkKa6pQX7g"
      }
    },
    {
      "cell_type": "code",
      "source": [
        "def recommend(movie_name):\n",
        "  movie_index = df_with_combined_keywords[df_with_combined_keywords[\"Movie Titles\"]==movie_name].index[0]\n",
        "  distances = similarity[movie_index]\n",
        "  movies_list = sorted(list(enumerate(distances)),reverse=True,key=lambda x:x[1])[1:6]\n",
        "  for i in movies_list:\n",
        "    print(df_with_combined_keywords[\"Movie Titles\"].iloc[i[0]])"
      ],
      "metadata": {
        "id": "zr75fmcCQVHv"
      },
      "execution_count": 46,
      "outputs": []
    },
    {
      "cell_type": "markdown",
      "source": [
        "#Getting the recommendation based on movies"
      ],
      "metadata": {
        "id": "D2HyFfeVQdDn"
      }
    },
    {
      "cell_type": "code",
      "source": [
        "recommend(\"the batman\")"
      ],
      "metadata": {
        "id": "r0s9FeaEQZ9t",
        "colab": {
          "base_uri": "https://localhost:8080/"
        },
        "outputId": "b30b6e27-458e-43f4-d607-71a3298a9ead"
      },
      "execution_count": 47,
      "outputs": [
        {
          "output_type": "stream",
          "name": "stdout",
          "text": [
            "batman begins\n",
            "the dark knight\n",
            "spider-man: across the spider-verse\n",
            "spider-man: into the spider-verse\n",
            "the dark knight rises\n"
          ]
        }
      ]
    },
    {
      "cell_type": "code",
      "source": [],
      "metadata": {
        "id": "8wu7wF2FA-fj"
      },
      "execution_count": null,
      "outputs": []
    }
  ]
}